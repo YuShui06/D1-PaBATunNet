{
 "cells": [
  {
   "cell_type": "code",
   "id": "233de0c7",
   "metadata": {
    "pycharm": {
     "name": "#%%\n"
    }
   },
   "source": [
    "## milk protein\n",
    "\n",
    "from sklearn.svm import SVR\n",
    "from sklearn.model_selection import GridSearchCV\n",
    "import numpy as np\n",
    "import FunctionMilk as FM\n",
    "import CommonFunction as CF\n",
    "import pandas as pd\n",
    "\n",
    "test_data, test_lable, train_data, train_lable = FM.getOdateMilkProtein()\n",
    "a = []\n",
    "svm = GridSearchCV(SVR(), param_grid={\"kernel\": (\"linear\", 'rbf')})\n",
    "svm.fit(train_data,train_lable)\n",
    "res_train = svm.predict(train_data)\n",
    "res_test = svm.predict(test_data)\n",
    "rmsec = CF.calculate_RMSE(res_train,train_lable) ## 训练集上的RMSE\n",
    "rmsep = CF.calculate_RMSE(res_test,test_lable)  ## 测试集上的RMSE\n",
    "r_2_t = CF.calculate_R21(res_train,train_lable)## 训练集上的R_2\n",
    "r_2_p = CF.calculate_R21(res_test,test_lable)## 测试集上得R_2\n",
    "a.append(rmsec)\n",
    "a.append(r_2_t)\n",
    "a.append(rmsep)\n",
    "a.append(r_2_p)\n",
    "data = pd.DataFrame([a])\n",
    "data.to_csv('./svmMilkProtein.csv',mode='a',index=False,header=False)"
   ],
   "execution_count": 6,
   "outputs": [
    {
     "name": "stderr",
     "output_type": "stream",
     "text": [
      "E:\\PythonProject\\django\\djangoProject\\project\\lib\\site-packages\\sklearn\\utils\\validation.py:1111: DataConversionWarning: A column-vector y was passed when a 1d array was expected. Please change the shape of y to (n_samples, ), for example using ravel().\n",
      "  y = column_or_1d(y, warn=True)\n",
      "E:\\PythonProject\\django\\djangoProject\\project\\lib\\site-packages\\sklearn\\utils\\validation.py:1111: DataConversionWarning: A column-vector y was passed when a 1d array was expected. Please change the shape of y to (n_samples, ), for example using ravel().\n",
      "  y = column_or_1d(y, warn=True)\n",
      "E:\\PythonProject\\django\\djangoProject\\project\\lib\\site-packages\\sklearn\\utils\\validation.py:1111: DataConversionWarning: A column-vector y was passed when a 1d array was expected. Please change the shape of y to (n_samples, ), for example using ravel().\n",
      "  y = column_or_1d(y, warn=True)\n",
      "E:\\PythonProject\\django\\djangoProject\\project\\lib\\site-packages\\sklearn\\utils\\validation.py:1111: DataConversionWarning: A column-vector y was passed when a 1d array was expected. Please change the shape of y to (n_samples, ), for example using ravel().\n",
      "  y = column_or_1d(y, warn=True)\n",
      "E:\\PythonProject\\django\\djangoProject\\project\\lib\\site-packages\\sklearn\\utils\\validation.py:1111: DataConversionWarning: A column-vector y was passed when a 1d array was expected. Please change the shape of y to (n_samples, ), for example using ravel().\n",
      "  y = column_or_1d(y, warn=True)\n",
      "E:\\PythonProject\\django\\djangoProject\\project\\lib\\site-packages\\sklearn\\utils\\validation.py:1111: DataConversionWarning: A column-vector y was passed when a 1d array was expected. Please change the shape of y to (n_samples, ), for example using ravel().\n",
      "  y = column_or_1d(y, warn=True)\n",
      "E:\\PythonProject\\django\\djangoProject\\project\\lib\\site-packages\\sklearn\\utils\\validation.py:1111: DataConversionWarning: A column-vector y was passed when a 1d array was expected. Please change the shape of y to (n_samples, ), for example using ravel().\n",
      "  y = column_or_1d(y, warn=True)\n",
      "E:\\PythonProject\\django\\djangoProject\\project\\lib\\site-packages\\sklearn\\utils\\validation.py:1111: DataConversionWarning: A column-vector y was passed when a 1d array was expected. Please change the shape of y to (n_samples, ), for example using ravel().\n",
      "  y = column_or_1d(y, warn=True)\n",
      "E:\\PythonProject\\django\\djangoProject\\project\\lib\\site-packages\\sklearn\\utils\\validation.py:1111: DataConversionWarning: A column-vector y was passed when a 1d array was expected. Please change the shape of y to (n_samples, ), for example using ravel().\n",
      "  y = column_or_1d(y, warn=True)\n",
      "E:\\PythonProject\\django\\djangoProject\\project\\lib\\site-packages\\sklearn\\utils\\validation.py:1111: DataConversionWarning: A column-vector y was passed when a 1d array was expected. Please change the shape of y to (n_samples, ), for example using ravel().\n",
      "  y = column_or_1d(y, warn=True)\n",
      "E:\\PythonProject\\django\\djangoProject\\project\\lib\\site-packages\\sklearn\\utils\\validation.py:1111: DataConversionWarning: A column-vector y was passed when a 1d array was expected. Please change the shape of y to (n_samples, ), for example using ravel().\n",
      "  y = column_or_1d(y, warn=True)\n"
     ]
    }
   ]
  }
 ],
 "metadata": {
  "kernelspec": {
   "name": "python3",
   "language": "python",
   "display_name": "Python 3 (ipykernel)"
  },
  "language_info": {
   "codemirror_mode": {
    "name": "ipython",
    "version": 3
   },
   "file_extension": ".py",
   "mimetype": "text/x-python",
   "name": "python",
   "nbconvert_exporter": "python",
   "pygments_lexer": "ipython3",
   "version": "3.7.10"
  }
 },
 "nbformat": 4,
 "nbformat_minor": 5
}