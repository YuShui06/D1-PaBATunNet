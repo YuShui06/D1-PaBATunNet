{
 "cells": [
  {
   "cell_type": "code",
   "id": "d3461833",
   "metadata": {
    "pycharm": {
     "name": "#%%\n"
    }
   },
   "source": [
    "## milk protein\n",
    "\n",
    "import FunctionMilk as FM\n",
    "import CommonFunction as CF\n",
    "import pandas as pd\n",
    "from sklearn.decomposition import PCA\n",
    "from sklearn.linear_model import LinearRegression\n",
    "\n",
    "\n",
    "for i in range(1,51):\n",
    "    a = []\n",
    "    test_data, test_lable, train_data, train_lable = FM.getOdateMilkProtein()\n",
    "    pca = PCA(n_components=i)\n",
    "    pca.fit(train_data,test_data)\n",
    "    train_data = pca.transform(train_data)\n",
    "    test_data =pca.transform(test_data)\n",
    "    lr = LinearRegression()\n",
    "    lr.fit(train_data,train_lable)\n",
    "    res_train = lr.predict(train_data)\n",
    "    res_test = lr.predict(test_data)\n",
    "    rmsec = CF.calculate_RMSE(res_train,train_lable) ## 训练集上的RMSE\n",
    "    rmsep = CF.calculate_RMSE(res_test,test_lable)  ## 测试集上的RMSE\n",
    "    r_2_t = CF.calculate_R21(res_train,train_lable)## 训练集上的R_2\n",
    "    r_2_p = CF.calculate_R21(res_test,test_lable)## 测试集上得R_2\n",
    "    a.append(i)\n",
    "    a.append(rmsec)\n",
    "    a.append(r_2_t)\n",
    "    a.append(rmsep)\n",
    "    a.append(r_2_p)\n",
    "    data = pd.DataFrame([a])\n",
    "    data.to_csv('./pcrMilkProtein.csv',mode='a',index=False,header=False)"
   ],
   "execution_count": 1,
   "outputs": []
  }
 ],
 "metadata": {
  "imageInfo": {
   "id": "e1a07296-22a8-4f05-8bc8-e936c8e54100",
   "name": "tensortlow2.1-cuda10.1-cudnn7-ubuntu18.04"
  },
  "kernelspec": {
   "name": "python3",
   "language": "python",
   "display_name": "Python 3 (ipykernel)"
  },
  "language_info": {
   "codemirror_mode": {
    "name": "ipython",
    "version": 3
   },
   "file_extension": ".py",
   "mimetype": "text/x-python",
   "name": "python",
   "nbconvert_exporter": "python",
   "pygments_lexer": "ipython3",
   "version": "3.7.10"
  },
  "shareInfo": {
   "id": "4b5cb755-b74c-4139-98b4-5bd7500c4c99",
   "url": "https://authoring-modelarts-cnnorth4.huaweicloud.com/console/lab?share-url-b64=aHR0cHM6Ly9ub3RlYm9va3NoYXJlLm9icy5jbi1ub3J0aC00Lm15aHVhd2VpY2xvdWQuY29tLzBkNzZmZDA3NDc4MGYyYTUxZjM3YzAwMWI4NjVkYTIwL1BMUy5pcHluYg%3D%3D"
  }
 },
 "nbformat": 4,
 "nbformat_minor": 5
}