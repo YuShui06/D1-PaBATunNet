{
 "cells": [
  {
   "cell_type": "code",
   "execution_count": null,
   "outputs": [],
   "source": [
    "## grain moisture\n",
    "\n",
    "import FunctionGrain as FM\n",
    "import CommonFunction as CF\n",
    "import pandas as pd\n",
    "from sklearn.neural_network import MLPRegressor\n",
    "\n",
    "\n",
    "test_data,test_lable,train_data,train_lable = FM.getOdateGrainMoisture()\n",
    "for i6 in range(1):\n",
    "    for i5 in range(1):\n",
    "        for i4 in range(150,300,100):\n",
    "            for i3 in range(15,300,50):\n",
    "                for i2 in range(1,300,40):\n",
    "                    for i in range(1,300,32):\n",
    "                        a = []\n",
    "                        mlp = MLPRegressor(random_state=2, max_iter=5000,hidden_layer_sizes=(350,300,i4,i3,i2,i))\n",
    "                        mlp.fit(train_data, train_lable)\n",
    "                        res_train = mlp.predict(train_data)\n",
    "                        res_test = mlp.predict(test_data)\n",
    "                        rmsec = CF.calculate_RMSE(res_train,train_lable) ## 训练集上的RMSE\n",
    "                        rmsep = CF.calculate_RMSE(res_test,test_lable)  ## 测试集上的RMSE\n",
    "                        r_2_t = CF.calculate_R21(res_train,train_lable)## 训练集上的R_2\n",
    "                        r_2_p = CF.calculate_R21(res_test,test_lable)## 测试集上得R_2\n",
    "                        a.append(i)\n",
    "                        a.append(rmsec)\n",
    "                        a.append(r_2_t)\n",
    "                        a.append(rmsep)\n",
    "                        a.append(r_2_p)\n",
    "                        a.append('i6=%d i5=%d i4=%d i3=%d i2=%d i=%d' % (i6,i5,i4,i3,i2,i))\n",
    "                        data = pd.DataFrame([a])\n",
    "                        data.to_csv('./bpGrainMoisture.csv',mode='a',index=False,header=False)"
   ],
   "metadata": {
    "collapsed": false,
    "pycharm": {
     "name": "#%%\n",
     "is_executing": true
    }
   }
  }
 ],
 "metadata": {
  "kernelspec": {
   "name": "python3",
   "language": "python",
   "display_name": "Python 3 (ipykernel)"
  },
  "language_info": {
   "codemirror_mode": {
    "name": "ipython",
    "version": 3
   },
   "file_extension": ".py",
   "mimetype": "text/x-python",
   "name": "python",
   "nbconvert_exporter": "python",
   "pygments_lexer": "ipython3",
   "version": "3.7.10"
  }
 },
 "nbformat": 4,
 "nbformat_minor": 5
}